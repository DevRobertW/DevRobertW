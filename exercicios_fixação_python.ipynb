{
  "nbformat": 4,
  "nbformat_minor": 0,
  "metadata": {
    "colab": {
      "provenance": [],
      "authorship_tag": "ABX9TyOvB7bQRYdnWNMY915i44PX",
      "include_colab_link": true
    },
    "kernelspec": {
      "name": "python3",
      "display_name": "Python 3"
    },
    "language_info": {
      "name": "python"
    }
  },
  "cells": [
    {
      "cell_type": "markdown",
      "metadata": {
        "id": "view-in-github",
        "colab_type": "text"
      },
      "source": [
        "<a href=\"https://colab.research.google.com/github/DevRobertW/DevRobertW/blob/main/exercicios_fixa%C3%A7%C3%A3o_python.ipynb\" target=\"_parent\"><img src=\"https://colab.research.google.com/assets/colab-badge.svg\" alt=\"Open In Colab\"/></a>"
      ]
    },
    {
      "cell_type": "markdown",
      "source": [
        "# Exercício de Cálculo de Média:"
      ],
      "metadata": {
        "id": "F3sHRVCQ7QHC"
      }
    },
    {
      "cell_type": "markdown",
      "source": [
        "\n",
        "\n",
        "a. Escreva um programa em Python que solicite ao usuário três notas (de 0 a 10) e\n",
        "calcule a média dessas notas. Em seguida, exiba a média na tela."
      ],
      "metadata": {
        "id": "bs10AhVu7zGy"
      }
    },
    {
      "cell_type": "markdown",
      "source": [
        "`Para calcular a média de notas, você precisa somar todas as notas e depois dividir essa soma pelo número total de notas.`\n",
        "\n",
        "\n",
        "\n",
        "\n"
      ],
      "metadata": {
        "id": "emYNB32V5zOR"
      }
    },
    {
      "cell_type": "markdown",
      "source": [
        "Explicação\n",
        "Lista de Notas: Cria uma lista com as notas.\n",
        "Soma das Notas: Usa a função sum() para somar todas as notas.\n",
        "Número de Notas: Usa a função len() para contar o número de notas na lista.\n",
        "Cálculo da Média: Divide a soma das notas pelo número de notas.\n",
        "Exemplo Completo com Input do Usuário\n",
        "Aqui está um exemplo mais completo, onde o usuário pode entrar com as notas:"
      ],
      "metadata": {
        "id": "Jv67o7tl6TUn"
      }
    },
    {
      "cell_type": "markdown",
      "source": [
        "Explicação\n",
        "Inicializa a Lista de Notas: Cria uma lista vazia para armazenar as notas.\n",
        "Entrada de Notas pelo Usuário: Usa um loop while para receber as notas do usuário até que ele digite 'sair'. Cada nota é convertida para float e adicionada à lista.\n",
        "Verifica se Há Notas: Antes de calcular a média, verifica se a lista de notas não está vazia.\n",
        "Cálculo da Média: Se houver notas, calcula a soma, o número de notas e a média como no exemplo anterior.\n",
        "Considerações\n",
        "Validação de Entrada: O exemplo inclui uma verificação para garantir que o usuário insira números válidos.\n",
        "Divisão por Zero: O exemplo verifica se há notas antes de calcular a média para evitar divisão por zero.\n",
        "Esse método pode ser usado em qualquer situação onde você precisa calcular a média de um conjunto de valores numéricos."
      ],
      "metadata": {
        "id": "riNNyy-Z60th"
      }
    },
    {
      "cell_type": "code",
      "source": [
        "# Inicializa a lista de notas\n",
        "notas = []\n",
        "\n",
        "# Recebe as notas do usuário\n",
        "while True:\n",
        "    nota = input(\"Digite uma nota (ou 'sair' para terminar): \")\n",
        "    if nota.lower() == 'sair':\n",
        "        break\n",
        "    try:\n",
        "        nota = float(nota)\n",
        "        notas.append(nota)\n",
        "    except ValueError:\n",
        "        print(\"Entrada inválida. Por favor, digite um número ou 'sair'.\")\n",
        "\n",
        "# Verifica se há notas na lista\n",
        "if notas:\n",
        "    # Calcula a soma das notas\n",
        "    soma_das_notas = sum(notas)\n",
        "\n",
        "    # Calcula o número de notas\n",
        "    numero_de_notas = len(notas)\n",
        "\n",
        "    # Calcula a média\n",
        "    media = soma_das_notas / numero_de_notas\n",
        "\n",
        "    print(f\"A média das notas é: {media}\")\n",
        "else:\n",
        "    print(\"Nenhuma nota foi inserida.\")\n"
      ],
      "metadata": {
        "colab": {
          "base_uri": "https://localhost:8080/"
        },
        "id": "JVCyubeu6S5S",
        "outputId": "6a810ae6-e9e4-4d7f-eb11-8467f1295901"
      },
      "execution_count": 8,
      "outputs": [
        {
          "output_type": "stream",
          "name": "stdout",
          "text": [
            "Digite uma nota (ou 'sair' para terminar): 10\n",
            "Digite uma nota (ou 'sair' para terminar): 5\n",
            "Digite uma nota (ou 'sair' para terminar): 8\n",
            "Digite uma nota (ou 'sair' para terminar): 9\n",
            "Digite uma nota (ou 'sair' para terminar): 8\n",
            "Digite uma nota (ou 'sair' para terminar): 7\n",
            "Digite uma nota (ou 'sair' para terminar): sair\n",
            "A média das notas é: 7.833333333333333\n"
          ]
        }
      ]
    },
    {
      "cell_type": "code",
      "source": [
        "\n",
        "'''nota1=int(input('digite a primeira nota: '))\n",
        "nota2=int(input('digite a segunda nota: '))\n",
        "nota3=int(input('digite a terceira nota: '))\n",
        "\n",
        "\n",
        "media=nota1+nota2+nota3\n",
        "\n",
        "total= media / 2\n",
        "print(total)'''\n",
        "\n",
        "'''media= lambda a, b, c: (a+b+c)/3\n",
        "print(media(9,5,10))'''\n",
        "\n",
        "'''def media(a,b,c):\n",
        "  return (a+b+c)/3\n",
        "\n",
        "print(media(9,5,10))'''\n",
        "\n",
        "def media(*args):\n",
        "  return sum(args)/len(args)\n",
        "\n",
        "print(media(9,5,10,20))\n"
      ],
      "metadata": {
        "colab": {
          "base_uri": "https://localhost:8080/"
        },
        "id": "AEhsSJxo8FTp",
        "outputId": "f1fcda5d-f9f0-4865-ac07-990d468f99e3"
      },
      "execution_count": 7,
      "outputs": [
        {
          "output_type": "stream",
          "name": "stdout",
          "text": [
            "11.0\n"
          ]
        }
      ]
    },
    {
      "cell_type": "markdown",
      "source": [
        "# Exercício de Conversão de Horas"
      ],
      "metadata": {
        "id": "bWSG5gcv7KqC"
      }
    },
    {
      "cell_type": "markdown",
      "source": [
        "\n",
        "a. Escreva um programa em Python que solicite ao usuário um número inteiro que\n",
        "represente a quantidade de horas e converta esse valor para dias e horas. Exiba o\n",
        "resultado na tela.\n"
      ],
      "metadata": {
        "id": "lBVo4r3r70cv"
      }
    },
    {
      "cell_type": "markdown",
      "source": [
        "Explicação do Código\n",
        "\n",
        "Entrada do Usuário:\n",
        "\n",
        "total_horas= int(input(\"Digite a quantidade de horas: \")): Solicita ao usuário\n",
        "a quantidade de horas e converte a entrada para um número inteiro.\n",
        "\n",
        "Conversão para Dias e Horas:\n",
        "\n",
        "dias = total_horas // 24: Calcula o número de dias dividindo total_horas por 24 usando divisão inteira.\n",
        "horas_restantes = total_horas % 24: Calcula o número de horas restantes usando o operador de módulo (%).\n",
        "\n",
        "Exibição do Resultado:\n",
        "\n",
        "print(f\"Resultado: {dias} dias e {horas_restantes} horas\"): Exibe a quantidade de dias e horas restantes formatados na tela."
      ],
      "metadata": {
        "id": "1JPdzhXC88h0"
      }
    },
    {
      "cell_type": "code",
      "source": [
        "# Solicitar ao usuário um número inteiro que represente a quantidade de horas\n",
        "total_horas = int(input(\"Digite a quantidade de horas: \"))\n",
        "\n",
        "# Converter o valor de horas para dias e horas\n",
        "dias = total_horas // 24\n",
        "horas_restantes = total_horas % 24\n",
        "\n",
        "# Exibir o resultado na tela\n",
        "print(f\"Resultado: {dias} dias e {horas_restantes} horas\")\n"
      ],
      "metadata": {
        "colab": {
          "base_uri": "https://localhost:8080/"
        },
        "id": "hHz2tozX7Wnr",
        "outputId": "ed836313-2779-489a-c904-6c0dcf13f182"
      },
      "execution_count": 11,
      "outputs": [
        {
          "output_type": "stream",
          "name": "stdout",
          "text": [
            "Digite  a quantidade de horas155\n",
            "O total de dias é 6.458333333333333 e as horas restantes são 11\n"
          ]
        }
      ]
    },
    {
      "cell_type": "markdown",
      "source": [
        "# Exercício de Aumento de Salário"
      ],
      "metadata": {
        "id": "1RP0ZZT29rId"
      }
    },
    {
      "cell_type": "markdown",
      "source": [
        "\n",
        "a. Faça um programa que calcule o aumento de um salário. Ele deve solicitar o valor\n",
        "do salário e a porcentagem do aumento. Exiba o valor do aumento e do novo\n",
        "salário.\n"
      ],
      "metadata": {
        "id": "eeQuOihr75Ry"
      }
    },
    {
      "cell_type": "code",
      "execution_count": 25,
      "metadata": {
        "id": "4QKHtNIJ7Xgp",
        "colab": {
          "base_uri": "https://localhost:8080/"
        },
        "outputId": "b13e7ff2-576f-425d-a379-eda626686c60"
      },
      "outputs": [
        {
          "output_type": "stream",
          "name": "stdout",
          "text": [
            "Digite o valor do salário: 1500\n",
            "Digite a porcentagem de aumento: 2\n",
            "Valor do aumento: 30 R$\n",
            "Novo salário: 1530.0\n"
          ]
        }
      ],
      "source": [
        "# Solicitar o valor do salário\n",
        "salario = float(input(\"Digite o valor do salário: \"))\n",
        "\n",
        "# Solicitar a porcentagem de aumento\n",
        "porcentagem_aumento = float(input(\"Digite a porcentagem de aumento: \"))\n",
        "\n",
        "# Calcular o valor do aumento\n",
        "valor_aumento = salario * (porcentagem_aumento / 100)\n",
        "\n",
        "# Calcular o novo salário\n",
        "novo_salario = salario + valor_aumento\n",
        "\n",
        "# Exibir o valor do aumento e do novo salário\n",
        "print(f\"Valor do aumento: {valor_aumento:.0f} R$\")\n",
        "print(f\"Novo salário: {novo_salario}\")\n"
      ]
    },
    {
      "cell_type": "markdown",
      "source": [
        "# Exercício de Tempo de Viagem"
      ],
      "metadata": {
        "id": "bMEDqqW6AZDr"
      }
    },
    {
      "cell_type": "markdown",
      "source": [
        "\n",
        "a. Escreva um programa que calcule o tempo de uma viagem de carro. Pergunte a\n",
        "distância a percorrer e a velocidade média esperada para a viagem.\n"
      ],
      "metadata": {
        "id": "6r0dMarE78xM"
      }
    },
    {
      "cell_type": "code",
      "source": [
        "# Solicitar a distância a percorrer\n",
        "distancia = float(input(\"Digite a distância a percorrer (em km): \"))\n",
        "\n",
        "# Solicitar a velocidade média esperada\n",
        "velocidade_media = float(input(\"Digite a velocidade média esperada (em km/h): \"))\n",
        "\n",
        "# Calcular o tempo da viagem\n",
        "tempo_viagem = distancia / velocidade_media\n",
        "\n",
        "# Exibir o tempo da viagem\n",
        "print(f\"O tempo estimado da viagem é de {tempo_viagem} horas\")\n"
      ],
      "metadata": {
        "id": "hkqj65YJBAKy"
      },
      "execution_count": null,
      "outputs": []
    },
    {
      "cell_type": "markdown",
      "source": [
        "# Exercício de Tempo de Vida"
      ],
      "metadata": {
        "id": "3REYv9wMBbo9"
      }
    },
    {
      "cell_type": "markdown",
      "source": [
        "\n",
        "a. Escreva um programa para calcular a redução do tempo de vida de um fumante.\n",
        "Pergunte a quantidade de cigarros fumados por dia e quantos anos ele já fumou.\n",
        "Considere que um fumante perde 10 minutos de vida a cada cigarro, e calcule\n",
        "quantos dias de vida um fumante perderá. Exiba o total em dias.\n"
      ],
      "metadata": {
        "id": "XiUW_FWK7_rc"
      }
    },
    {
      "cell_type": "code",
      "source": [
        "cigarros_dia = int(input(\"Digite a quantidade de cigarros fumados por dia: \"))\n",
        "\n",
        "anos_fumando = int(input(\"Digite quantos anos você já fumou: \"))\n",
        "\n",
        "minutos_perdidos = cigarros_dia * 10 * 365 * anos_fumando\n",
        "\n",
        "dias_perdidos = minutos_perdidos // (24 * 60)\n",
        "\n",
        "print(f\"Você perdeu {dias_perdidos} dias de vida.\")"
      ],
      "metadata": {
        "colab": {
          "base_uri": "https://localhost:8080/"
        },
        "id": "wdWc5Xfv-nF4",
        "outputId": "d59614ab-77f3-4e71-d93f-19fb2b9d4bb3"
      },
      "execution_count": 20,
      "outputs": [
        {
          "output_type": "stream",
          "name": "stdout",
          "text": [
            "Digite a quantidade de cigarros fumados por dia: 10\n",
            "Digite quantos anos você já fumou: 2\n",
            "Você perdeu 50 dias de vida.\n"
          ]
        }
      ]
    },
    {
      "cell_type": "code",
      "source": [
        "# Solicitar a quantidade de cigarros fumados por dia\n",
        "cigarros_por_dia = int(input(\"Digite a quantidade de cigarros fumados por dia: \"))\n",
        "\n",
        "# Solicitar a quantidade de anos que o usuário já fumou\n",
        "anos_fumando = int(input(\"Digite a quantidade de anos que você já fumou: \"))\n",
        "\n",
        "# Calcular a quantidade total de cigarros fumados\n",
        "total_cigarros = cigarros_por_dia * anos_fumando * 365\n",
        "\n",
        "# Calcular a perda de vida em minutos\n",
        "perda_minutos = total_cigarros * 10\n",
        "\n",
        "# Converter a perda de vida de minutos para dias\n",
        "perda_dias = perda_minutos / 1440\n",
        "\n",
        "# Exibir o total de dias de vida perdidos\n",
        "print(f\"Você perderá {perda_dias} dias de vida devido ao fumo\")\n"
      ],
      "metadata": {
        "colab": {
          "base_uri": "https://localhost:8080/"
        },
        "id": "iBefvpccCcPM",
        "outputId": "46b382fa-e7c3-42ae-ba7b-4ea568a56dc1"
      },
      "execution_count": 21,
      "outputs": [
        {
          "output_type": "stream",
          "name": "stdout",
          "text": [
            "Digite a quantidade de cigarros fumados por dia: 10\n",
            "Digite a quantidade de anos que você já fumou: 2\n",
            "Você perderá 50.69 dias de vida devido ao fumo\n"
          ]
        }
      ]
    }
  ]
}